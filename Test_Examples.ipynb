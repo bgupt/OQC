{
 "cells": [
  {
   "cell_type": "code",
   "execution_count": 1,
   "id": "1865d1c7",
   "metadata": {},
   "outputs": [],
   "source": [
    "import numpy as np"
   ]
  },
  {
   "cell_type": "code",
   "execution_count": 2,
   "id": "78ec2938",
   "metadata": {},
   "outputs": [],
   "source": [
    "import functions as f"
   ]
  },
  {
   "cell_type": "markdown",
   "id": "c076761d",
   "metadata": {},
   "source": [
    "# part 1"
   ]
  },
  {
   "cell_type": "code",
   "execution_count": 5,
   "id": "02d80e39",
   "metadata": {},
   "outputs": [],
   "source": [
    "input1 = \"X(90), X(90)\""
   ]
  },
  {
   "cell_type": "code",
   "execution_count": 6,
   "id": "10e3c03f",
   "metadata": {},
   "outputs": [
    {
     "data": {
      "text/plain": [
       "'X(180)'"
      ]
     },
     "execution_count": 6,
     "metadata": {},
     "output_type": "execute_result"
    }
   ],
   "source": [
    "f.part_1(input1)"
   ]
  },
  {
   "cell_type": "code",
   "execution_count": 7,
   "id": "58062101",
   "metadata": {},
   "outputs": [],
   "source": [
    "input2 = \"X(90), Y(180), X(90)\""
   ]
  },
  {
   "cell_type": "code",
   "execution_count": 8,
   "id": "d01f6372",
   "metadata": {},
   "outputs": [
    {
     "data": {
      "text/plain": [
       "'Y(180)'"
      ]
     },
     "execution_count": 8,
     "metadata": {},
     "output_type": "execute_result"
    }
   ],
   "source": [
    "f.part_1(input2)"
   ]
  },
  {
   "cell_type": "markdown",
   "id": "173a9d8c",
   "metadata": {},
   "source": [
    "# part 2"
   ]
  },
  {
   "cell_type": "code",
   "execution_count": 9,
   "id": "36efca7f",
   "metadata": {},
   "outputs": [
    {
     "data": {
      "text/plain": [
       "'X(180)'"
      ]
     },
     "execution_count": 9,
     "metadata": {},
     "output_type": "execute_result"
    }
   ],
   "source": [
    "f.part_2(input1)"
   ]
  },
  {
   "cell_type": "code",
   "execution_count": 10,
   "id": "96185914",
   "metadata": {},
   "outputs": [
    {
     "data": {
      "text/plain": [
       "'X(90), Z(90), X(180), Z(-90), X(90)'"
      ]
     },
     "execution_count": 10,
     "metadata": {},
     "output_type": "execute_result"
    }
   ],
   "source": [
    "f.part_2(input2)"
   ]
  },
  {
   "cell_type": "markdown",
   "id": "e9fc8171",
   "metadata": {},
   "source": [
    "# part 3 "
   ]
  },
  {
   "cell_type": "code",
   "execution_count": 11,
   "id": "0a65ce72",
   "metadata": {},
   "outputs": [],
   "source": [
    "LengthZ = 10\n",
    "LengthX = 100"
   ]
  },
  {
   "cell_type": "code",
   "execution_count": 14,
   "id": "f6d48979",
   "metadata": {},
   "outputs": [],
   "source": [
    "outstring, gatetime = f.part_3(f.part_2(input2), LengthZ, LengthX)"
   ]
  },
  {
   "cell_type": "code",
   "execution_count": 15,
   "id": "4634893c",
   "metadata": {},
   "outputs": [
    {
     "data": {
      "text/plain": [
       "'X(90), Z(90), X(180), Z(-90), X(90)'"
      ]
     },
     "execution_count": 15,
     "metadata": {},
     "output_type": "execute_result"
    }
   ],
   "source": [
    "outstring"
   ]
  },
  {
   "cell_type": "code",
   "execution_count": 16,
   "id": "ab6691c4",
   "metadata": {},
   "outputs": [
    {
     "data": {
      "text/plain": [
       "320"
      ]
     },
     "execution_count": 16,
     "metadata": {},
     "output_type": "execute_result"
    }
   ],
   "source": [
    "gatetime"
   ]
  },
  {
   "cell_type": "markdown",
   "id": "21bed058",
   "metadata": {},
   "source": [
    "# part 4"
   ]
  },
  {
   "cell_type": "code",
   "execution_count": 17,
   "id": "324af2f9",
   "metadata": {},
   "outputs": [],
   "source": [
    "length1Q = 10\n",
    "length2Q = 1000"
   ]
  },
  {
   "cell_type": "code",
   "execution_count": 18,
   "id": "1beac87b",
   "metadata": {},
   "outputs": [],
   "source": [
    "example_input1 = \"X(1, 90), Z(1, 180), CX(0, 1), X(1, 90)\"\n",
    "example_input2 = \"CX(0, 1), X(1, 90), CX(0, 1)\""
   ]
  },
  {
   "cell_type": "code",
   "execution_count": 20,
   "id": "744dacb4",
   "metadata": {},
   "outputs": [
    {
     "data": {
      "text/plain": [
       "'Z(1, 180, 0), CX(0, 1, 10)'"
      ]
     },
     "execution_count": 20,
     "metadata": {},
     "output_type": "execute_result"
    }
   ],
   "source": [
    "f.part_4(example_input1, length1Q, length2Q)"
   ]
  },
  {
   "cell_type": "code",
   "execution_count": 21,
   "id": "7c27148f",
   "metadata": {},
   "outputs": [
    {
     "data": {
      "text/plain": [
       "'X(1, 90, 0)'"
      ]
     },
     "execution_count": 21,
     "metadata": {},
     "output_type": "execute_result"
    }
   ],
   "source": [
    "f.part_4(example_input2, length1Q, length2Q)"
   ]
  },
  {
   "cell_type": "code",
   "execution_count": null,
   "id": "2be14451",
   "metadata": {},
   "outputs": [],
   "source": []
  }
 ],
 "metadata": {
  "kernelspec": {
   "display_name": "Python 3",
   "language": "python",
   "name": "python3"
  },
  "language_info": {
   "codemirror_mode": {
    "name": "ipython",
    "version": 3
   },
   "file_extension": ".py",
   "mimetype": "text/x-python",
   "name": "python",
   "nbconvert_exporter": "python",
   "pygments_lexer": "ipython3",
   "version": "3.8.8"
  }
 },
 "nbformat": 4,
 "nbformat_minor": 5
}
